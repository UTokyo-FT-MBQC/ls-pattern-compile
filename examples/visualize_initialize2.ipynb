{
 "cells": [
  {
   "cell_type": "markdown",
   "metadata": {},
   "source": [
    "# InitPlus 3D Visualization (RHGBlock)\n",
    "\n",
    "- 3DでInitPlusブロックのノードとエッジを可視化します。\n",
    "- データ: 白塗り、X ancilla: 緑、Z ancilla: 青、入力/出力: 黒塗り\n",
    "- オプション: ancilla 表示切替（both/x/z）、エッジ太さ\n",
    "- 可能ならインタラクティブ（回転/ズーム）を有効化\n"
   ]
  },
  {
   "cell_type": "code",
   "execution_count": 1,
   "id": "84288fb4",
   "metadata": {},
   "outputs": [
    {
     "ename": "ModuleNotFoundError",
     "evalue": "No module named 'plotly'",
     "output_type": "error",
     "traceback": [
      "\u001b[31m---------------------------------------------------------------------------\u001b[39m",
      "\u001b[31mModuleNotFoundError\u001b[39m                       Traceback (most recent call last)",
      "\u001b[36mCell\u001b[39m\u001b[36m \u001b[39m\u001b[32mIn[1]\u001b[39m\u001b[32m, line 2\u001b[39m\n\u001b[32m      1\u001b[39m \u001b[38;5;66;03m# Interactive plotting setup with plotly\u001b[39;00m\n\u001b[32m----> \u001b[39m\u001b[32m2\u001b[39m \u001b[38;5;28;01mimport\u001b[39;00m\u001b[38;5;250m \u001b[39m\u001b[34;01mplotly\u001b[39;00m\u001b[34;01m.\u001b[39;00m\u001b[34;01mgraph_objects\u001b[39;00m\u001b[38;5;250m \u001b[39m\u001b[38;5;28;01mas\u001b[39;00m\u001b[38;5;250m \u001b[39m\u001b[34;01mgo\u001b[39;00m\n\u001b[32m      3\u001b[39m \u001b[38;5;28;01mimport\u001b[39;00m\u001b[38;5;250m \u001b[39m\u001b[34;01mplotly\u001b[39;00m\u001b[34;01m.\u001b[39;00m\u001b[34;01mexpress\u001b[39;00m\u001b[38;5;250m \u001b[39m\u001b[38;5;28;01mas\u001b[39;00m\u001b[38;5;250m \u001b[39m\u001b[34;01mpx\u001b[39;00m\n\u001b[32m      4\u001b[39m \u001b[38;5;28;01mfrom\u001b[39;00m\u001b[38;5;250m \u001b[39m\u001b[34;01mplotly\u001b[39;00m\u001b[34;01m.\u001b[39;00m\u001b[34;01msubplots\u001b[39;00m\u001b[38;5;250m \u001b[39m\u001b[38;5;28;01mimport\u001b[39;00m make_subplots\n",
      "\u001b[31mModuleNotFoundError\u001b[39m: No module named 'plotly'"
     ]
    }
   ],
   "source": [
    "# Interactive plotting setup with plotly\n",
    "import plotly.graph_objects as go\n",
    "import plotly.express as px\n",
    "from plotly.subplots import make_subplots\n",
    "import ipywidgets as widgets\n",
    "from IPython.display import display\n",
    "print('Using plotly for interactive 3D visualization')"
   ]
  },
  {
   "cell_type": "code",
   "execution_count": null,
   "id": "51808d29",
   "metadata": {},
   "outputs": [],
   "source": [
    "# 可視化ユーティリティの定義\n",
    "import matplotlib.pyplot as plt\n",
    "from mpl_toolkits.mplot3d import Axes3D  # noqa: F401\n",
    "from lspattern.template.base import RotatedPlanarTemplate\n",
    "from lspattern.blocks.initialize import InitPlus\n",
    "\n",
    "def visualize_initplus(d=3, kind=(\"X\", \"Z\", \"X\"), ancilla_mode=\"both\", edge_width=3.0):\n",
    "    template = RotatedPlanarTemplate(d=d, kind=kind)\n",
    "    _ = template.to_tiling()\n",
    "    block = InitPlus(d=d, kind=kind, template=template)\n",
    "    block.materialize()\n",
    "\n",
    "    g = block.graph_local\n",
    "    node2coord = block.node2coords\n",
    "    node2role = block.node2role\n",
    "\n",
    "    color_map = {\n",
    "        'data':      {'face': 'white',   'edge': 'black',  'size': 40},\n",
    "        'ancilla_x': {'face': '#2ecc71','edge': '#1e8449','size': 36},\n",
    "        'ancilla_z': {'face': '#3498db','edge': '#1f618d','size': 36},\n",
    "    }\n",
    "    groups = {k: {'x': [], 'y': [], 'z': []} for k in color_map}\n",
    "    for n, (x, y, z) in node2coord.items():\n",
    "        role = node2role.get(n, 'data')\n",
    "        if role not in groups:\n",
    "            role = 'data'\n",
    "        groups[role]['x'].append(x)\n",
    "        groups[role]['y'].append(y)\n",
    "        groups[role]['z'].append(z)\n",
    "\n",
    "    fig = plt.figure(figsize=(8, 7))\n",
    "    ax = fig.add_subplot(111, projection='3d')\n",
    "    ax.set_box_aspect((1, 1, 1))\n",
    "    ax.set_title(f'InitPlus RHGBlock d={d} kind={kind}')\n",
    "\n",
    "    for role, pts in groups.items():\n",
    "        if ancilla_mode == 'x' and role == 'ancilla_z':\n",
    "            continue\n",
    "        if ancilla_mode == 'z' and role == 'ancilla_x':\n",
    "            continue\n",
    "        if not pts['x']:\n",
    "            continue\n",
    "        spec = color_map[role]\n",
    "        ax.scatter(pts['x'], pts['y'], pts['z'], s=spec['size'], c=spec['face'], edgecolors=spec['edge'], depthshade=True, label=role, linewidths=0.8)\n",
    "\n",
    "    for u, v in g.physical_edges:\n",
    "        x1, y1, z1 = node2coord[u]\n",
    "        x2, y2, z2 = node2coord[v]\n",
    "        ax.plot([x1, x2], [y1, y2], [z1, z2], color='black', linewidth=edge_width, alpha=0.9)\n",
    "\n",
    "    in_nodes = set(g.input_node_indices.keys())\n",
    "    out_nodes = set(g.output_node_indices.keys())\n",
    "    if in_nodes:\n",
    "        xin = [node2coord[n][0] for n in in_nodes]\n",
    "        yin = [node2coord[n][1] for n in in_nodes]\n",
    "        zin = [node2coord[n][2] for n in in_nodes]\n",
    "        ax.scatter(xin, yin, zin, s=60, c='black', edgecolors='black', label='input', zorder=5)\n",
    "    if out_nodes:\n",
    "        xout = [node2coord[n][0] for n in out_nodes]\n",
    "        yout = [node2coord[n][1] for n in out_nodes]\n",
    "        zout = [node2coord[n][2] for n in out_nodes]\n",
    "        ax.scatter(xout, yout, zout, s=60, c='black', edgecolors='black', label='output', zorder=6)\n",
    "\n",
    "    ax.set_xlabel('x'); ax.set_ylabel('y'); ax.set_zlabel('z')\n",
    "    ax.legend(loc='upper left')\n",
    "    plt.tight_layout()\n",
    "    return fig, ax\n"
   ]
  },
  {
   "cell_type": "code",
   "execution_count": null,
   "id": "2fbe158e",
   "metadata": {},
   "outputs": [],
   "source": [
    "# Interactive 3D visualization with plotly\n",
    "from lspattern.template.base import RotatedPlanarTemplate\n",
    "from lspattern.blocks.initialize import InitPlus\n",
    "\n",
    "def create_interactive_initplus(d=3, kind=(\"X\", \"Z\", \"X\"), ancilla_mode=\"both\", edge_width=3.0, show_edges=True):\n",
    "    \"\"\"Create interactive 3D plotly visualization of InitPlus block\"\"\"\n",
    "    template = RotatedPlanarTemplate(d=d, kind=kind)\n",
    "    _ = template.to_tiling()\n",
    "    block = InitPlus(d=d, kind=kind, template=template)\n",
    "    block.materialize()\n",
    "\n",
    "    g = block.graph_local\n",
    "    node2coord = block.node2coords\n",
    "    node2role = block.node2role\n",
    "\n",
    "    # Color mapping\n",
    "    color_map = {\n",
    "        'data':      {'color': 'white',   'line_color': 'black',  'size': 8, 'name': 'Data'},\n",
    "        'ancilla_x': {'color': '#2ecc71', 'line_color': '#1e8449', 'size': 7, 'name': 'X Ancilla'},\n",
    "        'ancilla_z': {'color': '#3498db', 'line_color': '#1f618d', 'size': 7, 'name': 'Z Ancilla'},\n",
    "    }\n",
    "    \n",
    "    fig = go.Figure()\n",
    "    \n",
    "    # Group nodes by role\n",
    "    groups = {k: {'x': [], 'y': [], 'z': [], 'nodes': []} for k in color_map}\n",
    "    for n, (x, y, z) in node2coord.items():\n",
    "        role = node2role.get(n, 'data')\n",
    "        if role not in groups:\n",
    "            role = 'data'\n",
    "        groups[role]['x'].append(x)\n",
    "        groups[role]['y'].append(y)\n",
    "        groups[role]['z'].append(z)\n",
    "        groups[role]['nodes'].append(n)\n",
    "\n",
    "    # Add node traces\n",
    "    for role, pts in groups.items():\n",
    "        if ancilla_mode == 'x' and role == 'ancilla_z':\n",
    "            continue\n",
    "        if ancilla_mode == 'z' and role == 'ancilla_x':\n",
    "            continue\n",
    "        if not pts['x']:\n",
    "            continue\n",
    "        \n",
    "        spec = color_map[role]\n",
    "        fig.add_trace(go.Scatter3d(\n",
    "            x=pts['x'], y=pts['y'], z=pts['z'],\n",
    "            mode='markers',\n",
    "            marker=dict(\n",
    "                size=spec['size'],\n",
    "                color=spec['color'],\n",
    "                line=dict(color=spec['line_color'], width=1),\n",
    "                opacity=0.9\n",
    "            ),\n",
    "            name=spec['name'],\n",
    "            text=[f\"Node {n}: {role}\" for n in pts['nodes']],\n",
    "            hovertemplate=\"<b>%{text}</b><br>x: %{x}<br>y: %{y}<br>z: %{z}<extra></extra>\"\n",
    "        ))\n",
    "\n",
    "    # Add edges\n",
    "    if show_edges:\n",
    "        edge_x, edge_y, edge_z = [], [], []\n",
    "        for u, v in g.physical_edges:\n",
    "            x1, y1, z1 = node2coord[u]\n",
    "            x2, y2, z2 = node2coord[v]\n",
    "            edge_x.extend([x1, x2, None])\n",
    "            edge_y.extend([y1, y2, None])\n",
    "            edge_z.extend([z1, z2, None])\n",
    "        \n",
    "        fig.add_trace(go.Scatter3d(\n",
    "            x=edge_x, y=edge_y, z=edge_z,\n",
    "            mode='lines',\n",
    "            line=dict(color='black', width=edge_width),\n",
    "            name='Edges',\n",
    "            showlegend=False,\n",
    "            hoverinfo='none'\n",
    "        ))\n",
    "\n",
    "    # Add input/output nodes\n",
    "    in_nodes = set(g.input_node_indices.keys())\n",
    "    out_nodes = set(g.output_node_indices.keys())\n",
    "    \n",
    "    if in_nodes:\n",
    "        xin = [node2coord[n][0] for n in in_nodes]\n",
    "        yin = [node2coord[n][1] for n in in_nodes]\n",
    "        zin = [node2coord[n][2] for n in in_nodes]\n",
    "        fig.add_trace(go.Scatter3d(\n",
    "            x=xin, y=yin, z=zin,\n",
    "            mode='markers',\n",
    "            marker=dict(size=10, color='red', symbol='diamond'),\n",
    "            name='Input',\n",
    "            text=[f\"Input node {n}\" for n in in_nodes],\n",
    "            hovertemplate=\"<b>%{text}</b><br>x: %{x}<br>y: %{y}<br>z: %{z}<extra></extra>\"\n",
    "        ))\n",
    "    \n",
    "    if out_nodes:\n",
    "        xout = [node2coord[n][0] for n in out_nodes]\n",
    "        yout = [node2coord[n][1] for n in out_nodes]\n",
    "        zout = [node2coord[n][2] for n in out_nodes]\n",
    "        fig.add_trace(go.Scatter3d(\n",
    "            x=xout, y=yout, z=zout,\n",
    "            mode='markers',\n",
    "            marker=dict(size=10, color='darkred', symbol='diamond'),\n",
    "            name='Output',\n",
    "            text=[f\"Output node {n}\" for n in out_nodes],\n",
    "            hovertemplate=\"<b>%{text}</b><br>x: %{x}<br>y: %{y}<br>z: %{z}<extra></extra>\"\n",
    "        ))\n",
    "\n",
    "    # Layout settings with reversed X and Y axes\n",
    "    fig.update_layout(\n",
    "        title=f'Interactive InitPlus RHGBlock (d={d}, kind={kind})',\n",
    "        scene=dict(\n",
    "            xaxis_title='X',\n",
    "            yaxis_title='Y',\n",
    "            zaxis_title='Z',\n",
    "            xaxis=dict(autorange='reversed'),\n",
    "            yaxis=dict(autorange='reversed'),\n",
    "            aspectmode='cube',\n",
    "            camera=dict(\n",
    "                eye=dict(x=1.5, y=1.5, z=1.5)\n",
    "            )\n",
    "        ),\n",
    "        width=800,\n",
    "        height=600,\n",
    "        margin=dict(l=0, r=0, b=0, t=40)\n",
    "    )\n",
    "    \n",
    "    return fig"
   ]
  },
  {
   "cell_type": "code",
   "execution_count": null,
   "id": "ft1hth1vs3a",
   "metadata": {},
   "outputs": [
    {
     "data": {
      "application/vnd.jupyter.widget-view+json": {
       "model_id": "e148ef19eeab40cbb8b8dec8c5447a72",
       "version_major": 2,
       "version_minor": 0
      },
      "text/plain": [
       "VBox(children=(VBox(children=(HTML(value='<h3>Interactive InitPlus 3D Visualization</h3>'), IntSlider(value=3,…"
      ]
     },
     "metadata": {},
     "output_type": "display_data"
    }
   ],
   "source": [
    "# Interactive controls and visualization\n",
    "def create_interactive_widget():\n",
    "    \"\"\"Create interactive widget controls for the visualization\"\"\"\n",
    "    \n",
    "    # Widget controls\n",
    "    d_slider = widgets.IntSlider(\n",
    "        value=3, min=2, max=7, step=1,\n",
    "        description='Distance (d):', \n",
    "        style={'description_width': 'initial'}\n",
    "    )\n",
    "    \n",
    "    kind_dropdown = widgets.Dropdown(\n",
    "        options=[\n",
    "            ('X-Z-X', ('X', 'Z', 'X')),\n",
    "            ('Z-X-Z', ('Z', 'X', 'Z')),\n",
    "            ('X-X-X', ('X', 'X', 'X')),\n",
    "            ('Z-Z-Z', ('Z', 'Z', 'Z'))\n",
    "        ],\n",
    "        value=('X', 'Z', 'X'),\n",
    "        description='Kind:',\n",
    "        style={'description_width': 'initial'}\n",
    "    )\n",
    "    \n",
    "    ancilla_dropdown = widgets.Dropdown(\n",
    "        options=[('Both', 'both'), ('X only', 'x'), ('Z only', 'z')],\n",
    "        value='both',\n",
    "        description='Ancilla mode:',\n",
    "        style={'description_width': 'initial'}\n",
    "    )\n",
    "    \n",
    "    edge_width_slider = widgets.FloatSlider(\n",
    "        value=3.0, min=1.0, max=8.0, step=0.5,\n",
    "        description='Edge width:',\n",
    "        style={'description_width': 'initial'}\n",
    "    )\n",
    "    \n",
    "    show_edges_checkbox = widgets.Checkbox(\n",
    "        value=True,\n",
    "        description='Show edges',\n",
    "        style={'description_width': 'initial'}\n",
    "    )\n",
    "    \n",
    "    # Output widget for the plot\n",
    "    output_widget = widgets.Output()\n",
    "    \n",
    "    def update_plot(*args):\n",
    "        \"\"\"Update the plot when parameters change\"\"\"\n",
    "        with output_widget:\n",
    "            output_widget.clear_output(wait=True)\n",
    "            try:\n",
    "                fig = create_interactive_initplus(\n",
    "                    d=d_slider.value,\n",
    "                    kind=kind_dropdown.value,\n",
    "                    ancilla_mode=ancilla_dropdown.value,\n",
    "                    edge_width=edge_width_slider.value,\n",
    "                    show_edges=show_edges_checkbox.value\n",
    "                )\n",
    "                fig.show()\n",
    "            except Exception as e:\n",
    "                print(f\"Error creating visualization: {e}\")\n",
    "    \n",
    "    # Connect widgets to update function\n",
    "    d_slider.observe(update_plot, names='value')\n",
    "    kind_dropdown.observe(update_plot, names='value')\n",
    "    ancilla_dropdown.observe(update_plot, names='value')\n",
    "    edge_width_slider.observe(update_plot, names='value')\n",
    "    show_edges_checkbox.observe(update_plot, names='value')\n",
    "    \n",
    "    # Layout\n",
    "    controls = widgets.VBox([\n",
    "        widgets.HTML(\"<h3>Interactive InitPlus 3D Visualization</h3>\"),\n",
    "        d_slider,\n",
    "        kind_dropdown,\n",
    "        ancilla_dropdown,\n",
    "        edge_width_slider,\n",
    "        show_edges_checkbox\n",
    "    ])\n",
    "    \n",
    "    # Create initial plot\n",
    "    update_plot()\n",
    "    \n",
    "    return widgets.VBox([controls, output_widget])\n",
    "\n",
    "# Display the interactive widget\n",
    "interactive_widget = create_interactive_widget()\n",
    "display(interactive_widget)"
   ]
  },
  {
   "cell_type": "code",
   "execution_count": null,
   "id": "ueutpeb0hc",
   "metadata": {},
   "outputs": [
    {
     "data": {
      "application/vnd.plotly.v1+json": {
       "config": {
        "plotlyServerURL": "https://plot.ly"
       },
       "data": [
        {
         "hovertemplate": "<b>%{text}</b><br>x: %{x}<br>y: %{y}<br>z: %{z}<extra></extra>",
         "marker": {
          "color": "white",
          "line": {
           "color": "black",
           "width": 1
          },
          "opacity": 0.9,
          "size": 8
         },
         "mode": "markers",
         "name": "Data",
         "text": [
          "Node 0: data",
          "Node 1: data",
          "Node 2: data",
          "Node 3: data",
          "Node 4: data",
          "Node 5: data",
          "Node 6: data",
          "Node 7: data",
          "Node 8: data",
          "Node 13: data",
          "Node 14: data",
          "Node 15: data",
          "Node 16: data",
          "Node 17: data",
          "Node 18: data",
          "Node 19: data",
          "Node 20: data",
          "Node 21: data",
          "Node 26: data",
          "Node 27: data",
          "Node 28: data",
          "Node 29: data",
          "Node 30: data",
          "Node 31: data",
          "Node 32: data",
          "Node 33: data",
          "Node 34: data",
          "Node 39: data",
          "Node 40: data",
          "Node 41: data",
          "Node 42: data",
          "Node 43: data",
          "Node 44: data",
          "Node 45: data",
          "Node 46: data",
          "Node 47: data",
          "Node 52: data",
          "Node 53: data",
          "Node 54: data",
          "Node 55: data",
          "Node 56: data",
          "Node 57: data",
          "Node 58: data",
          "Node 59: data",
          "Node 60: data",
          "Node 65: data",
          "Node 66: data",
          "Node 67: data",
          "Node 68: data",
          "Node 69: data",
          "Node 70: data",
          "Node 71: data",
          "Node 72: data",
          "Node 73: data",
          "Node 78: data",
          "Node 79: data",
          "Node 80: data",
          "Node 81: data",
          "Node 82: data",
          "Node 83: data",
          "Node 84: data",
          "Node 85: data",
          "Node 86: data"
         ],
         "type": "scatter3d",
         "x": [
          0,
          2,
          4,
          0,
          2,
          4,
          0,
          2,
          4,
          0,
          2,
          4,
          0,
          2,
          4,
          0,
          2,
          4,
          0,
          2,
          4,
          0,
          2,
          4,
          0,
          2,
          4,
          0,
          2,
          4,
          0,
          2,
          4,
          0,
          2,
          4,
          0,
          2,
          4,
          0,
          2,
          4,
          0,
          2,
          4,
          0,
          2,
          4,
          0,
          2,
          4,
          0,
          2,
          4,
          0,
          2,
          4,
          0,
          2,
          4,
          0,
          2,
          4
         ],
         "y": [
          0,
          0,
          0,
          2,
          2,
          2,
          4,
          4,
          4,
          0,
          0,
          0,
          2,
          2,
          2,
          4,
          4,
          4,
          0,
          0,
          0,
          2,
          2,
          2,
          4,
          4,
          4,
          0,
          0,
          0,
          2,
          2,
          2,
          4,
          4,
          4,
          0,
          0,
          0,
          2,
          2,
          2,
          4,
          4,
          4,
          0,
          0,
          0,
          2,
          2,
          2,
          4,
          4,
          4,
          0,
          0,
          0,
          2,
          2,
          2,
          4,
          4,
          4
         ],
         "z": [
          0,
          0,
          0,
          0,
          0,
          0,
          0,
          0,
          0,
          1,
          1,
          1,
          1,
          1,
          1,
          1,
          1,
          1,
          2,
          2,
          2,
          2,
          2,
          2,
          2,
          2,
          2,
          3,
          3,
          3,
          3,
          3,
          3,
          3,
          3,
          3,
          4,
          4,
          4,
          4,
          4,
          4,
          4,
          4,
          4,
          5,
          5,
          5,
          5,
          5,
          5,
          5,
          5,
          5,
          6,
          6,
          6,
          6,
          6,
          6,
          6,
          6,
          6
         ]
        },
        {
         "hovertemplate": "<b>%{text}</b><br>x: %{x}<br>y: %{y}<br>z: %{z}<extra></extra>",
         "marker": {
          "color": "#2ecc71",
          "line": {
           "color": "#1e8449",
           "width": 1
          },
          "opacity": 0.9,
          "size": 7
         },
         "mode": "markers",
         "name": "X Ancilla",
         "text": [
          "Node 9: ancilla_x",
          "Node 10: ancilla_x",
          "Node 11: ancilla_x",
          "Node 12: ancilla_x",
          "Node 35: ancilla_x",
          "Node 36: ancilla_x",
          "Node 37: ancilla_x",
          "Node 38: ancilla_x",
          "Node 61: ancilla_x",
          "Node 62: ancilla_x",
          "Node 63: ancilla_x",
          "Node 64: ancilla_x"
         ],
         "type": "scatter3d",
         "x": [
          -1,
          3,
          1,
          5,
          -1,
          3,
          1,
          5,
          -1,
          3,
          1,
          5
         ],
         "y": [
          1,
          1,
          3,
          3,
          1,
          1,
          3,
          3,
          1,
          1,
          3,
          3
         ],
         "z": [
          0,
          0,
          0,
          0,
          2,
          2,
          2,
          2,
          4,
          4,
          4,
          4
         ]
        },
        {
         "hovertemplate": "<b>%{text}</b><br>x: %{x}<br>y: %{y}<br>z: %{z}<extra></extra>",
         "marker": {
          "color": "#3498db",
          "line": {
           "color": "#1f618d",
           "width": 1
          },
          "opacity": 0.9,
          "size": 7
         },
         "mode": "markers",
         "name": "Z Ancilla",
         "text": [
          "Node 22: ancilla_z",
          "Node 23: ancilla_z",
          "Node 24: ancilla_z",
          "Node 25: ancilla_z",
          "Node 48: ancilla_z",
          "Node 49: ancilla_z",
          "Node 50: ancilla_z",
          "Node 51: ancilla_z",
          "Node 74: ancilla_z",
          "Node 75: ancilla_z",
          "Node 76: ancilla_z",
          "Node 77: ancilla_z"
         ],
         "type": "scatter3d",
         "x": [
          3,
          1,
          3,
          1,
          3,
          1,
          3,
          1,
          3,
          1,
          3,
          1
         ],
         "y": [
          -1,
          1,
          3,
          5,
          -1,
          1,
          3,
          5,
          -1,
          1,
          3,
          5
         ],
         "z": [
          1,
          1,
          1,
          1,
          3,
          3,
          3,
          3,
          5,
          5,
          5,
          5
         ]
        },
        {
         "hoverinfo": "none",
         "line": {
          "color": "black",
          "width": 3
         },
         "mode": "lines",
         "name": "Edges",
         "showlegend": false,
         "type": "scatter3d",
         "x": [
          0,
          1,
          null,
          0,
          0,
          null,
          0,
          0,
          null,
          4,
          3,
          null,
          0,
          0,
          null,
          0,
          -1,
          null,
          2,
          1,
          null,
          0,
          0,
          null,
          4,
          3,
          null,
          2,
          3,
          null,
          4,
          5,
          null,
          2,
          2,
          null,
          0,
          1,
          null,
          4,
          3,
          null,
          0,
          1,
          null,
          0,
          0,
          null,
          0,
          0,
          null,
          2,
          3,
          null,
          0,
          0,
          null,
          4,
          3,
          null,
          0,
          -1,
          null,
          2,
          1,
          null,
          0,
          0,
          null,
          4,
          3,
          null,
          0,
          1,
          null,
          2,
          2,
          null,
          2,
          2,
          null,
          4,
          5,
          null,
          2,
          3,
          null,
          2,
          2,
          null,
          2,
          1,
          null,
          2,
          2,
          null,
          0,
          0,
          null,
          4,
          3,
          null,
          0,
          0,
          null,
          2,
          3,
          null,
          0,
          0,
          null,
          2,
          1,
          null,
          0,
          -1,
          null,
          2,
          1,
          null,
          4,
          3,
          null,
          0,
          0,
          null,
          4,
          3,
          null,
          2,
          2,
          null,
          0,
          1,
          null,
          2,
          3,
          null,
          2,
          2,
          null,
          2,
          3,
          null,
          2,
          2,
          null,
          2,
          1,
          null,
          2,
          2,
          null,
          4,
          4,
          null,
          0,
          -1,
          null,
          4,
          5,
          null,
          0,
          0,
          null,
          4,
          4,
          null,
          2,
          3,
          null,
          4,
          4,
          null,
          2,
          2,
          null,
          2,
          1,
          null,
          4,
          3,
          null,
          2,
          2,
          null,
          0,
          1,
          null,
          0,
          0,
          null,
          2,
          2,
          null,
          2,
          3,
          null,
          2,
          3,
          null,
          2,
          2,
          null,
          2,
          1,
          null,
          2,
          2,
          null,
          0,
          -1,
          null,
          4,
          4,
          null,
          4,
          4,
          null,
          4,
          3,
          null,
          4,
          4,
          null,
          4,
          5,
          null,
          4,
          4,
          null,
          2,
          3,
          null,
          4,
          4,
          null,
          2,
          1,
          null,
          2,
          2,
          null,
          0,
          1,
          null,
          2,
          2,
          null,
          0,
          0,
          null,
          2,
          3,
          null,
          0,
          1,
          null,
          4,
          4,
          null,
          2,
          1,
          null,
          4,
          4,
          null,
          0,
          -1,
          null,
          4,
          4,
          null,
          4,
          3,
          null,
          4,
          5,
          null,
          2,
          1,
          null,
          4,
          4,
          null,
          2,
          3,
          null,
          4,
          4,
          null,
          4,
          4,
          null,
          2,
          1,
          null,
          2,
          2,
          null,
          4,
          3,
          null,
          0,
          1,
          null,
          2,
          3,
          null,
          2,
          2,
          null,
          0,
          1,
          null,
          4,
          4,
          null,
          2,
          1,
          null,
          0,
          1,
          null,
          4,
          4,
          null,
          0,
          1,
          null,
          4,
          3,
          null,
          4,
          4,
          null,
          0,
          0,
          null,
          2,
          3,
          null,
          0,
          0,
          null,
          2,
          1,
          null,
          0,
          0,
          null,
          4,
          3,
          null,
          0,
          1,
          null,
          2,
          3,
          null,
          4,
          5,
          null,
          0,
          1,
          null,
          4,
          4,
          null,
          2,
          1,
          null,
          4,
          3,
          null,
          0,
          1,
          null
         ],
         "y": [
          4,
          3,
          null,
          2,
          2,
          null,
          0,
          0,
          null,
          0,
          -1,
          null,
          2,
          2,
          null,
          2,
          1,
          null,
          4,
          5,
          null,
          4,
          4,
          null,
          2,
          1,
          null,
          0,
          -1,
          null,
          2,
          3,
          null,
          2,
          2,
          null,
          2,
          1,
          null,
          0,
          1,
          null,
          4,
          3,
          null,
          2,
          2,
          null,
          0,
          0,
          null,
          0,
          1,
          null,
          2,
          2,
          null,
          0,
          -1,
          null,
          2,
          1,
          null,
          4,
          5,
          null,
          4,
          4,
          null,
          4,
          3,
          null,
          2,
          3,
          null,
          2,
          2,
          null,
          4,
          4,
          null,
          2,
          3,
          null,
          4,
          3,
          null,
          2,
          2,
          null,
          2,
          1,
          null,
          4,
          4,
          null,
          0,
          0,
          null,
          0,
          1,
          null,
          0,
          0,
          null,
          0,
          1,
          null,
          4,
          4,
          null,
          2,
          3,
          null,
          2,
          1,
          null,
          4,
          5,
          null,
          0,
          -1,
          null,
          4,
          4,
          null,
          4,
          3,
          null,
          2,
          2,
          null,
          2,
          3,
          null,
          2,
          1,
          null,
          4,
          4,
          null,
          4,
          3,
          null,
          2,
          2,
          null,
          2,
          1,
          null,
          4,
          4,
          null,
          2,
          2,
          null,
          0,
          1,
          null,
          4,
          3,
          null,
          0,
          0,
          null,
          2,
          2,
          null,
          0,
          1,
          null,
          4,
          4,
          null,
          0,
          0,
          null,
          2,
          3,
          null,
          4,
          3,
          null,
          0,
          0,
          null,
          2,
          3,
          null,
          4,
          4,
          null,
          2,
          2,
          null,
          2,
          1,
          null,
          4,
          3,
          null,
          4,
          4,
          null,
          2,
          1,
          null,
          4,
          4,
          null,
          0,
          1,
          null,
          0,
          0,
          null,
          2,
          2,
          null,
          2,
          3,
          null,
          4,
          4,
          null,
          4,
          3,
          null,
          2,
          2,
          null,
          2,
          3,
          null,
          4,
          4,
          null,
          0,
          1,
          null,
          0,
          0,
          null,
          0,
          1,
          null,
          0,
          0,
          null,
          4,
          4,
          null,
          2,
          1,
          null,
          4,
          5,
          null,
          0,
          0,
          null,
          4,
          3,
          null,
          0,
          0,
          null,
          0,
          1,
          null,
          2,
          2,
          null,
          2,
          3,
          null,
          4,
          3,
          null,
          2,
          3,
          null,
          4,
          4,
          null,
          2,
          3,
          null,
          2,
          2,
          null,
          4,
          4,
          null,
          0,
          1,
          null,
          0,
          0,
          null,
          2,
          1,
          null,
          0,
          1,
          null,
          0,
          -1,
          null,
          0,
          0,
          null,
          4,
          5,
          null,
          0,
          0,
          null,
          4,
          3,
          null,
          2,
          1,
          null,
          0,
          0,
          null,
          4,
          3,
          null,
          2,
          3,
          null,
          4,
          4,
          null,
          2,
          2,
          null,
          2,
          3,
          null,
          0,
          0,
          null,
          0,
          1,
          null,
          2,
          2,
          null,
          2,
          1,
          null,
          0,
          1,
          null,
          0,
          -1,
          null,
          2,
          3,
          null,
          4,
          5,
          null,
          0,
          0,
          null,
          4,
          3,
          null,
          0,
          1,
          null,
          2,
          1,
          null
         ],
         "z": [
          2,
          2,
          null,
          1,
          2,
          null,
          2,
          3,
          null,
          5,
          5,
          null,
          0,
          1,
          null,
          2,
          2,
          null,
          3,
          3,
          null,
          4,
          5,
          null,
          0,
          0,
          null,
          1,
          1,
          null,
          2,
          2,
          null,
          1,
          2,
          null,
          5,
          5,
          null,
          2,
          2,
          null,
          0,
          0,
          null,
          5,
          6,
          null,
          1,
          2,
          null,
          4,
          4,
          null,
          4,
          5,
          null,
          3,
          3,
          null,
          0,
          0,
          null,
          1,
          1,
          null,
          2,
          3,
          null,
          1,
          1,
          null,
          2,
          2,
          null,
          0,
          1,
          null,
          4,
          5,
          null,
          0,
          0,
          null,
          3,
          3,
          null,
          5,
          6,
          null,
          1,
          1,
          null,
          3,
          4,
          null,
          0,
          1,
          null,
          0,
          0,
          null,
          5,
          6,
          null,
          2,
          2,
          null,
          1,
          2,
          null,
          4,
          4,
          null,
          4,
          4,
          null,
          5,
          5,
          null,
          1,
          1,
          null,
          0,
          1,
          null,
          5,
          5,
          null,
          4,
          5,
          null,
          0,
          0,
          null,
          0,
          0,
          null,
          2,
          3,
          null,
          1,
          1,
          null,
          3,
          4,
          null,
          5,
          5,
          null,
          1,
          2,
          null,
          5,
          6,
          null,
          0,
          0,
          null,
          2,
          2,
          null,
          3,
          4,
          null,
          4,
          5,
          null,
          0,
          0,
          null,
          2,
          3,
          null,
          5,
          6,
          null,
          2,
          2,
          null,
          3,
          3,
          null,
          4,
          5,
          null,
          4,
          4,
          null,
          5,
          6,
          null,
          2,
          3,
          null,
          4,
          4,
          null,
          5,
          5,
          null,
          0,
          1,
          null,
          3,
          3,
          null,
          5,
          6,
          null,
          4,
          4,
          null,
          5,
          6,
          null,
          3,
          4,
          null,
          5,
          5,
          null,
          1,
          2,
          null,
          0,
          0,
          null,
          2,
          3,
          null,
          1,
          1,
          null,
          0,
          1,
          null,
          5,
          5,
          null,
          3,
          4,
          null,
          1,
          1,
          null,
          2,
          3,
          null,
          3,
          4,
          null,
          2,
          2,
          null,
          5,
          5,
          null,
          4,
          5,
          null,
          4,
          4,
          null,
          3,
          4,
          null,
          2,
          2,
          null,
          1,
          2,
          null,
          3,
          3,
          null,
          4,
          4,
          null,
          0,
          0,
          null,
          5,
          6,
          null,
          5,
          5,
          null,
          0,
          1,
          null,
          4,
          5,
          null,
          3,
          3,
          null,
          1,
          2,
          null,
          4,
          4,
          null,
          5,
          5,
          null,
          5,
          5,
          null,
          0,
          1,
          null,
          3,
          3,
          null,
          2,
          3,
          null,
          2,
          2,
          null,
          3,
          3,
          null,
          1,
          2,
          null,
          4,
          4,
          null,
          1,
          1,
          null,
          3,
          4,
          null,
          3,
          4,
          null,
          3,
          3,
          null,
          4,
          5,
          null,
          1,
          1,
          null,
          2,
          3,
          null,
          2,
          2,
          null,
          3,
          3,
          null,
          3,
          3,
          null,
          4,
          4,
          null,
          1,
          1,
          null,
          0,
          1,
          null,
          0,
          0,
          null,
          4,
          4,
          null,
          1,
          1,
          null
         ]
        },
        {
         "hovertemplate": "<b>%{text}</b><br>x: %{x}<br>y: %{y}<br>z: %{z}<extra></extra>",
         "marker": {
          "color": "darkred",
          "size": 10,
          "symbol": "diamond"
         },
         "mode": "markers",
         "name": "Output",
         "text": [
          "Output node 78",
          "Output node 79",
          "Output node 80",
          "Output node 81",
          "Output node 82",
          "Output node 83",
          "Output node 84",
          "Output node 85",
          "Output node 86"
         ],
         "type": "scatter3d",
         "x": [
          0,
          2,
          4,
          0,
          2,
          4,
          0,
          2,
          4
         ],
         "y": [
          0,
          0,
          0,
          2,
          2,
          2,
          4,
          4,
          4
         ],
         "z": [
          6,
          6,
          6,
          6,
          6,
          6,
          6,
          6,
          6
         ]
        }
       ],
       "layout": {
        "height": 600,
        "margin": {
         "b": 0,
         "l": 0,
         "r": 0,
         "t": 40
        },
        "scene": {
         "aspectmode": "cube",
         "camera": {
          "eye": {
           "x": 1.5,
           "y": 1.5,
           "z": 1.5
          }
         },
         "xaxis": {
          "autorange": "reversed",
          "title": {
           "text": "X"
          }
         },
         "yaxis": {
          "autorange": "reversed",
          "title": {
           "text": "Y"
          }
         },
         "zaxis": {
          "title": {
           "text": "Z"
          }
         }
        },
        "template": {
         "data": {
          "bar": [
           {
            "error_x": {
             "color": "#2a3f5f"
            },
            "error_y": {
             "color": "#2a3f5f"
            },
            "marker": {
             "line": {
              "color": "#E5ECF6",
              "width": 0.5
             },
             "pattern": {
              "fillmode": "overlay",
              "size": 10,
              "solidity": 0.2
             }
            },
            "type": "bar"
           }
          ],
          "barpolar": [
           {
            "marker": {
             "line": {
              "color": "#E5ECF6",
              "width": 0.5
             },
             "pattern": {
              "fillmode": "overlay",
              "size": 10,
              "solidity": 0.2
             }
            },
            "type": "barpolar"
           }
          ],
          "carpet": [
           {
            "aaxis": {
             "endlinecolor": "#2a3f5f",
             "gridcolor": "white",
             "linecolor": "white",
             "minorgridcolor": "white",
             "startlinecolor": "#2a3f5f"
            },
            "baxis": {
             "endlinecolor": "#2a3f5f",
             "gridcolor": "white",
             "linecolor": "white",
             "minorgridcolor": "white",
             "startlinecolor": "#2a3f5f"
            },
            "type": "carpet"
           }
          ],
          "choropleth": [
           {
            "colorbar": {
             "outlinewidth": 0,
             "ticks": ""
            },
            "type": "choropleth"
           }
          ],
          "contour": [
           {
            "colorbar": {
             "outlinewidth": 0,
             "ticks": ""
            },
            "colorscale": [
             [
              0,
              "#0d0887"
             ],
             [
              0.1111111111111111,
              "#46039f"
             ],
             [
              0.2222222222222222,
              "#7201a8"
             ],
             [
              0.3333333333333333,
              "#9c179e"
             ],
             [
              0.4444444444444444,
              "#bd3786"
             ],
             [
              0.5555555555555556,
              "#d8576b"
             ],
             [
              0.6666666666666666,
              "#ed7953"
             ],
             [
              0.7777777777777778,
              "#fb9f3a"
             ],
             [
              0.8888888888888888,
              "#fdca26"
             ],
             [
              1,
              "#f0f921"
             ]
            ],
            "type": "contour"
           }
          ],
          "contourcarpet": [
           {
            "colorbar": {
             "outlinewidth": 0,
             "ticks": ""
            },
            "type": "contourcarpet"
           }
          ],
          "heatmap": [
           {
            "colorbar": {
             "outlinewidth": 0,
             "ticks": ""
            },
            "colorscale": [
             [
              0,
              "#0d0887"
             ],
             [
              0.1111111111111111,
              "#46039f"
             ],
             [
              0.2222222222222222,
              "#7201a8"
             ],
             [
              0.3333333333333333,
              "#9c179e"
             ],
             [
              0.4444444444444444,
              "#bd3786"
             ],
             [
              0.5555555555555556,
              "#d8576b"
             ],
             [
              0.6666666666666666,
              "#ed7953"
             ],
             [
              0.7777777777777778,
              "#fb9f3a"
             ],
             [
              0.8888888888888888,
              "#fdca26"
             ],
             [
              1,
              "#f0f921"
             ]
            ],
            "type": "heatmap"
           }
          ],
          "histogram": [
           {
            "marker": {
             "pattern": {
              "fillmode": "overlay",
              "size": 10,
              "solidity": 0.2
             }
            },
            "type": "histogram"
           }
          ],
          "histogram2d": [
           {
            "colorbar": {
             "outlinewidth": 0,
             "ticks": ""
            },
            "colorscale": [
             [
              0,
              "#0d0887"
             ],
             [
              0.1111111111111111,
              "#46039f"
             ],
             [
              0.2222222222222222,
              "#7201a8"
             ],
             [
              0.3333333333333333,
              "#9c179e"
             ],
             [
              0.4444444444444444,
              "#bd3786"
             ],
             [
              0.5555555555555556,
              "#d8576b"
             ],
             [
              0.6666666666666666,
              "#ed7953"
             ],
             [
              0.7777777777777778,
              "#fb9f3a"
             ],
             [
              0.8888888888888888,
              "#fdca26"
             ],
             [
              1,
              "#f0f921"
             ]
            ],
            "type": "histogram2d"
           }
          ],
          "histogram2dcontour": [
           {
            "colorbar": {
             "outlinewidth": 0,
             "ticks": ""
            },
            "colorscale": [
             [
              0,
              "#0d0887"
             ],
             [
              0.1111111111111111,
              "#46039f"
             ],
             [
              0.2222222222222222,
              "#7201a8"
             ],
             [
              0.3333333333333333,
              "#9c179e"
             ],
             [
              0.4444444444444444,
              "#bd3786"
             ],
             [
              0.5555555555555556,
              "#d8576b"
             ],
             [
              0.6666666666666666,
              "#ed7953"
             ],
             [
              0.7777777777777778,
              "#fb9f3a"
             ],
             [
              0.8888888888888888,
              "#fdca26"
             ],
             [
              1,
              "#f0f921"
             ]
            ],
            "type": "histogram2dcontour"
           }
          ],
          "mesh3d": [
           {
            "colorbar": {
             "outlinewidth": 0,
             "ticks": ""
            },
            "type": "mesh3d"
           }
          ],
          "parcoords": [
           {
            "line": {
             "colorbar": {
              "outlinewidth": 0,
              "ticks": ""
             }
            },
            "type": "parcoords"
           }
          ],
          "pie": [
           {
            "automargin": true,
            "type": "pie"
           }
          ],
          "scatter": [
           {
            "fillpattern": {
             "fillmode": "overlay",
             "size": 10,
             "solidity": 0.2
            },
            "type": "scatter"
           }
          ],
          "scatter3d": [
           {
            "line": {
             "colorbar": {
              "outlinewidth": 0,
              "ticks": ""
             }
            },
            "marker": {
             "colorbar": {
              "outlinewidth": 0,
              "ticks": ""
             }
            },
            "type": "scatter3d"
           }
          ],
          "scattercarpet": [
           {
            "marker": {
             "colorbar": {
              "outlinewidth": 0,
              "ticks": ""
             }
            },
            "type": "scattercarpet"
           }
          ],
          "scattergeo": [
           {
            "marker": {
             "colorbar": {
              "outlinewidth": 0,
              "ticks": ""
             }
            },
            "type": "scattergeo"
           }
          ],
          "scattergl": [
           {
            "marker": {
             "colorbar": {
              "outlinewidth": 0,
              "ticks": ""
             }
            },
            "type": "scattergl"
           }
          ],
          "scattermap": [
           {
            "marker": {
             "colorbar": {
              "outlinewidth": 0,
              "ticks": ""
             }
            },
            "type": "scattermap"
           }
          ],
          "scattermapbox": [
           {
            "marker": {
             "colorbar": {
              "outlinewidth": 0,
              "ticks": ""
             }
            },
            "type": "scattermapbox"
           }
          ],
          "scatterpolar": [
           {
            "marker": {
             "colorbar": {
              "outlinewidth": 0,
              "ticks": ""
             }
            },
            "type": "scatterpolar"
           }
          ],
          "scatterpolargl": [
           {
            "marker": {
             "colorbar": {
              "outlinewidth": 0,
              "ticks": ""
             }
            },
            "type": "scatterpolargl"
           }
          ],
          "scatterternary": [
           {
            "marker": {
             "colorbar": {
              "outlinewidth": 0,
              "ticks": ""
             }
            },
            "type": "scatterternary"
           }
          ],
          "surface": [
           {
            "colorbar": {
             "outlinewidth": 0,
             "ticks": ""
            },
            "colorscale": [
             [
              0,
              "#0d0887"
             ],
             [
              0.1111111111111111,
              "#46039f"
             ],
             [
              0.2222222222222222,
              "#7201a8"
             ],
             [
              0.3333333333333333,
              "#9c179e"
             ],
             [
              0.4444444444444444,
              "#bd3786"
             ],
             [
              0.5555555555555556,
              "#d8576b"
             ],
             [
              0.6666666666666666,
              "#ed7953"
             ],
             [
              0.7777777777777778,
              "#fb9f3a"
             ],
             [
              0.8888888888888888,
              "#fdca26"
             ],
             [
              1,
              "#f0f921"
             ]
            ],
            "type": "surface"
           }
          ],
          "table": [
           {
            "cells": {
             "fill": {
              "color": "#EBF0F8"
             },
             "line": {
              "color": "white"
             }
            },
            "header": {
             "fill": {
              "color": "#C8D4E3"
             },
             "line": {
              "color": "white"
             }
            },
            "type": "table"
           }
          ]
         },
         "layout": {
          "annotationdefaults": {
           "arrowcolor": "#2a3f5f",
           "arrowhead": 0,
           "arrowwidth": 1
          },
          "autotypenumbers": "strict",
          "coloraxis": {
           "colorbar": {
            "outlinewidth": 0,
            "ticks": ""
           }
          },
          "colorscale": {
           "diverging": [
            [
             0,
             "#8e0152"
            ],
            [
             0.1,
             "#c51b7d"
            ],
            [
             0.2,
             "#de77ae"
            ],
            [
             0.3,
             "#f1b6da"
            ],
            [
             0.4,
             "#fde0ef"
            ],
            [
             0.5,
             "#f7f7f7"
            ],
            [
             0.6,
             "#e6f5d0"
            ],
            [
             0.7,
             "#b8e186"
            ],
            [
             0.8,
             "#7fbc41"
            ],
            [
             0.9,
             "#4d9221"
            ],
            [
             1,
             "#276419"
            ]
           ],
           "sequential": [
            [
             0,
             "#0d0887"
            ],
            [
             0.1111111111111111,
             "#46039f"
            ],
            [
             0.2222222222222222,
             "#7201a8"
            ],
            [
             0.3333333333333333,
             "#9c179e"
            ],
            [
             0.4444444444444444,
             "#bd3786"
            ],
            [
             0.5555555555555556,
             "#d8576b"
            ],
            [
             0.6666666666666666,
             "#ed7953"
            ],
            [
             0.7777777777777778,
             "#fb9f3a"
            ],
            [
             0.8888888888888888,
             "#fdca26"
            ],
            [
             1,
             "#f0f921"
            ]
           ],
           "sequentialminus": [
            [
             0,
             "#0d0887"
            ],
            [
             0.1111111111111111,
             "#46039f"
            ],
            [
             0.2222222222222222,
             "#7201a8"
            ],
            [
             0.3333333333333333,
             "#9c179e"
            ],
            [
             0.4444444444444444,
             "#bd3786"
            ],
            [
             0.5555555555555556,
             "#d8576b"
            ],
            [
             0.6666666666666666,
             "#ed7953"
            ],
            [
             0.7777777777777778,
             "#fb9f3a"
            ],
            [
             0.8888888888888888,
             "#fdca26"
            ],
            [
             1,
             "#f0f921"
            ]
           ]
          },
          "colorway": [
           "#636efa",
           "#EF553B",
           "#00cc96",
           "#ab63fa",
           "#FFA15A",
           "#19d3f3",
           "#FF6692",
           "#B6E880",
           "#FF97FF",
           "#FECB52"
          ],
          "font": {
           "color": "#2a3f5f"
          },
          "geo": {
           "bgcolor": "white",
           "lakecolor": "white",
           "landcolor": "#E5ECF6",
           "showlakes": true,
           "showland": true,
           "subunitcolor": "white"
          },
          "hoverlabel": {
           "align": "left"
          },
          "hovermode": "closest",
          "mapbox": {
           "style": "light"
          },
          "paper_bgcolor": "white",
          "plot_bgcolor": "#E5ECF6",
          "polar": {
           "angularaxis": {
            "gridcolor": "white",
            "linecolor": "white",
            "ticks": ""
           },
           "bgcolor": "#E5ECF6",
           "radialaxis": {
            "gridcolor": "white",
            "linecolor": "white",
            "ticks": ""
           }
          },
          "scene": {
           "xaxis": {
            "backgroundcolor": "#E5ECF6",
            "gridcolor": "white",
            "gridwidth": 2,
            "linecolor": "white",
            "showbackground": true,
            "ticks": "",
            "zerolinecolor": "white"
           },
           "yaxis": {
            "backgroundcolor": "#E5ECF6",
            "gridcolor": "white",
            "gridwidth": 2,
            "linecolor": "white",
            "showbackground": true,
            "ticks": "",
            "zerolinecolor": "white"
           },
           "zaxis": {
            "backgroundcolor": "#E5ECF6",
            "gridcolor": "white",
            "gridwidth": 2,
            "linecolor": "white",
            "showbackground": true,
            "ticks": "",
            "zerolinecolor": "white"
           }
          },
          "shapedefaults": {
           "line": {
            "color": "#2a3f5f"
           }
          },
          "ternary": {
           "aaxis": {
            "gridcolor": "white",
            "linecolor": "white",
            "ticks": ""
           },
           "baxis": {
            "gridcolor": "white",
            "linecolor": "white",
            "ticks": ""
           },
           "bgcolor": "#E5ECF6",
           "caxis": {
            "gridcolor": "white",
            "linecolor": "white",
            "ticks": ""
           }
          },
          "title": {
           "x": 0.05
          },
          "xaxis": {
           "automargin": true,
           "gridcolor": "white",
           "linecolor": "white",
           "ticks": "",
           "title": {
            "standoff": 15
           },
           "zerolinecolor": "white",
           "zerolinewidth": 2
          },
          "yaxis": {
           "automargin": true,
           "gridcolor": "white",
           "linecolor": "white",
           "ticks": "",
           "title": {
            "standoff": 15
           },
           "zerolinecolor": "white",
           "zerolinewidth": 2
          }
         }
        },
        "title": {
         "text": "Interactive InitPlus RHGBlock (d=3, kind=('X', 'Z', 'X'))"
        },
        "width": 800
       }
      }
     },
     "metadata": {},
     "output_type": "display_data"
    }
   ],
   "source": [
    "# Simple test - create a single interactive plot\n",
    "fig = create_interactive_initplus(d=3, kind=(\"X\", \"Z\", \"X\"), ancilla_mode=\"both\", edge_width=3.0)\n",
    "fig.show()"
   ]
  }
 ],
 "metadata": {
  "kernelspec": {
   "display_name": ".venv",
   "language": "python",
   "name": "python3"
  },
  "language_info": {
   "codemirror_mode": {
    "name": "ipython",
    "version": 3
   },
   "file_extension": ".py",
   "mimetype": "text/x-python",
   "name": "python",
   "nbconvert_exporter": "python",
   "pygments_lexer": "ipython3",
   "version": "3.13.7"
  }
 },
 "nbformat": 4,
 "nbformat_minor": 5
}
